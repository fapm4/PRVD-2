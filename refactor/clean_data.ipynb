{
 "cells": [
  {
   "cell_type": "code",
   "execution_count": 1,
   "metadata": {},
   "outputs": [],
   "source": [
    "import pandas as pd\n",
    "import folium\n",
    "from folium import Marker\n",
    "import geopandas as gpd\n",
    "import os\n",
    "from folium.plugins import HeatMap, MeasureControl\n",
    "import folium.plugins\n",
    "from IPython.display import display, clear_output\n",
    "from plotly import express as px\n",
    "import plotly.graph_objects as go\n",
    "from shapely.geometry import Point\n",
    "import numpy as np\n",
    "import re\n",
    "from time import sleep\n",
    "from shapely.geometry import Polygon, MultiPolygon"
   ]
  },
  {
   "cell_type": "markdown",
   "metadata": {},
   "source": [
    "---\n",
    "\n",
    "# Carga de datos"
   ]
  },
  {
   "cell_type": "code",
   "execution_count": 2,
   "metadata": {},
   "outputs": [],
   "source": [
    "data_path = os.path.join(os.path.dirname(os.getcwd()),  'data', 'pancho_raw')\n",
    "output_data_path = os.path.join(os.path.dirname(os.getcwd()),  'data', 'pancho_clean')\n",
    "\n",
    "listings = pd.read_csv(os.path.join(data_path, 'listings.csv'))\n",
    "details = pd.read_csv(os.path.join(data_path, 'listings_detailed.csv'))\n",
    "calendar = pd.read_csv(os.path.join(data_path, 'calendar.csv'))\n",
    "gdf = gpd.read_file(os.path.join(data_path, 'neighbourhoods.geojson'))\n",
    "crimes = pd.read_excel(os.path.join(data_path, 'crimenes.xlsx'), sheet_name='SEGURIDAD')\n",
    "metro = pd.read_csv(os.path.join(data_path, 'metro.csv'))"
   ]
  },
  {
   "cell_type": "markdown",
   "metadata": {},
   "source": [
    "---\n",
    "\n",
    "# Limpieza\n",
    "\n",
    "Los campos nulos de del dataset `listings` no son relevantes en nuestro análisis, por lo que no los tendremos en cuenta"
   ]
  },
  {
   "cell_type": "code",
   "execution_count": 3,
   "metadata": {},
   "outputs": [],
   "source": [
    "metro['Longitude'] = metro['Longitude'].str.replace(',', '.').astype(float)\n",
    "metro['Latitude'] = metro['Latitude'].str.replace(',', '.').astype(float)\n",
    "metro['Traffic'] = metro['Traffic'].str.replace('.', '').astype(int)"
   ]
  },
  {
   "cell_type": "markdown",
   "metadata": {},
   "source": [
    "---\n",
    "\n",
    "# Preprocesado\n",
    "\n",
    "## 1. Búsqueda de superficie\n",
    "Debido a que no tenemos dentro del dataset el tamaño del alojamiento, vamos a buscarlo dentro del texto. Dado que el dataset está tanto en inglés como español, deberemos buscar:\n",
    "- X m2\n",
    "- X m²\n",
    "- X square meters"
   ]
  },
  {
   "cell_type": "code",
   "execution_count": 4,
   "metadata": {},
   "outputs": [
    {
     "name": "stdout",
     "output_type": "stream",
     "text": [
      "Index(['id', 'name', 'host_id', 'host_name', 'neighbourhood_group',\n",
      "       'neighbourhood', 'latitude', 'longitude', 'room_type', 'price',\n",
      "       'minimum_nights', 'number_of_reviews', 'last_review',\n",
      "       'reviews_per_month', 'calculated_host_listings_count',\n",
      "       'availability_365', 'listing_url', 'scrape_id', 'last_scraped',\n",
      "       'description', 'neighborhood_overview', 'picture_url', 'host_url',\n",
      "       'host_since', 'host_location', 'host_about', 'host_response_time',\n",
      "       'host_response_rate', 'host_acceptance_rate', 'host_is_superhost',\n",
      "       'host_thumbnail_url', 'host_picture_url', 'host_neighbourhood',\n",
      "       'host_listings_count', 'host_total_listings_count',\n",
      "       'host_verifications', 'host_has_profile_pic', 'host_identity_verified',\n",
      "       'neighbourhood_cleansed', 'neighbourhood_group_cleansed',\n",
      "       'property_type', 'accommodates', 'bathrooms', 'bathrooms_text',\n",
      "       'bedrooms', 'beds', 'amenities', 'maximum_nights',\n",
      "       'minimum_minimum_nights', 'maximum_minimum_nights',\n",
      "       'minimum_maximum_nights', 'maximum_maximum_nights',\n",
      "       'minimum_nights_avg_ntm', 'maximum_nights_avg_ntm', 'calendar_updated',\n",
      "       'has_availability', 'availability_30', 'availability_60',\n",
      "       'availability_90', 'calendar_last_scraped', 'number_of_reviews_ltm',\n",
      "       'number_of_reviews_l30d', 'first_review', 'review_scores_rating',\n",
      "       'review_scores_accuracy', 'review_scores_cleanliness',\n",
      "       'review_scores_checkin', 'review_scores_communication',\n",
      "       'review_scores_location', 'review_scores_value', 'license',\n",
      "       'instant_bookable', 'calculated_host_listings_count_entire_homes',\n",
      "       'calculated_host_listings_count_private_rooms',\n",
      "       'calculated_host_listings_count_shared_rooms'],\n",
      "      dtype='object')\n"
     ]
    },
    {
     "name": "stderr",
     "output_type": "stream",
     "text": [
      "<>:13: SyntaxWarning: invalid escape sequence '\\$'\n",
      "<>:13: SyntaxWarning: invalid escape sequence '\\$'\n",
      "/var/folders/x_/ghw0qsvj3p120vrgdzcvqpcc0000gn/T/ipykernel_24380/522814582.py:13: SyntaxWarning: invalid escape sequence '\\$'\n",
      "  listings['price'] = listings['price'].replace('[\\$,]', '', regex=True).astype(float)\n"
     ]
    }
   ],
   "source": [
    "common_columns = set(listings.columns).intersection(details.columns)\n",
    "unique_columns_details = [col for col in details.columns if col not in common_columns]\n",
    "\n",
    "listings = pd.merge(\n",
    "\tlistings,\n",
    "\tdetails[['id'] + unique_columns_details],\n",
    "\ton='id',\n",
    "\thow='inner'\n",
    ")\n",
    "\n",
    "print(listings.columns)\n",
    "\n",
    "listings['price'] = listings['price'].replace('[\\$,]', '', regex=True).astype(float)"
   ]
  },
  {
   "cell_type": "code",
   "execution_count": 5,
   "metadata": {},
   "outputs": [],
   "source": [
    "m2 = r'\\b(\\d+(?:\\.\\d+)?)\\s*(?:m2|m²|metros cuadrados?|mts2|metros2)\\b'\n",
    "sq = r'\\b(\\d+(?:\\.\\d+)?)\\s*(?:sq\\s*ft|square\\s*feet|ft²|sqft|feet²|sqfeet|sqf|square meters|sqm)\\b'\n",
    "\n",
    "listings['m2'] = listings['description'].str.extract(m2, flags=re.IGNORECASE)[0]\n",
    "listings['sqft'] = listings['description'].str.extract(sq, flags=re.IGNORECASE)[0]\n",
    "\n",
    "listings['m2'] = pd.to_numeric(listings['m2'], errors='coerce')\n",
    "listings['sqft'] = pd.to_numeric(listings['sqft'], errors='coerce')\n",
    "\n",
    "listings['m2'] = listings['m2'].fillna(listings['sqft'] * 0.092903)\n",
    "\n",
    "listings.drop(columns=['sqft'], inplace=True)"
   ]
  },
  {
   "cell_type": "markdown",
   "metadata": {},
   "source": [
    "## 2. Normalizar campos"
   ]
  },
  {
   "cell_type": "code",
   "execution_count": 6,
   "metadata": {},
   "outputs": [],
   "source": [
    "calendar['date'] = pd.to_datetime(calendar['date'], errors='coerce')\n",
    "\n",
    "listings['neighbourhood'] = listings['neighbourhood'].str.upper()\n",
    "listings['neighbourhood_group'] = listings['neighbourhood_group'].str.upper()\n",
    "gdf['neighbourhood'] = gdf['neighbourhood'].str.upper()\n",
    "gdf['neighbourhood_group'] = gdf['neighbourhood_group'].str.upper()"
   ]
  },
  {
   "cell_type": "code",
   "execution_count": 7,
   "metadata": {},
   "outputs": [
    {
     "data": {
      "text/html": [
       "<div>\n",
       "<style scoped>\n",
       "    .dataframe tbody tr th:only-of-type {\n",
       "        vertical-align: middle;\n",
       "    }\n",
       "\n",
       "    .dataframe tbody tr th {\n",
       "        vertical-align: top;\n",
       "    }\n",
       "\n",
       "    .dataframe thead th {\n",
       "        text-align: right;\n",
       "    }\n",
       "</style>\n",
       "<table border=\"1\" class=\"dataframe\">\n",
       "  <thead>\n",
       "    <tr style=\"text-align: right;\">\n",
       "      <th></th>\n",
       "      <th>SEGURIDAD CIUDADANA</th>\n",
       "      <th>Unnamed: 1</th>\n",
       "      <th>Unnamed: 2</th>\n",
       "      <th>Unnamed: 3</th>\n",
       "      <th>Unnamed: 4</th>\n",
       "      <th>Unnamed: 5</th>\n",
       "    </tr>\n",
       "  </thead>\n",
       "  <tbody>\n",
       "    <tr>\n",
       "      <th>0</th>\n",
       "      <td>NaN</td>\n",
       "      <td>NaN</td>\n",
       "      <td>NaN</td>\n",
       "      <td>NaN</td>\n",
       "      <td>NaN</td>\n",
       "      <td>NaN</td>\n",
       "    </tr>\n",
       "    <tr>\n",
       "      <th>1</th>\n",
       "      <td>DISTRITOS</td>\n",
       "      <td>RELACIONADAS CON LAS PERSONAS</td>\n",
       "      <td>RELACIONADAS CON EL PATRIMONIO</td>\n",
       "      <td>POR TENENCIA DE ARMAS</td>\n",
       "      <td>POR TENENCIA DE DROGAS</td>\n",
       "      <td>POR CONSUMO DE DROGAS</td>\n",
       "    </tr>\n",
       "    <tr>\n",
       "      <th>2</th>\n",
       "      <td>CENTRO</td>\n",
       "      <td>33</td>\n",
       "      <td>711</td>\n",
       "      <td>2</td>\n",
       "      <td>22</td>\n",
       "      <td>1</td>\n",
       "    </tr>\n",
       "    <tr>\n",
       "      <th>3</th>\n",
       "      <td>ARGANZUELA</td>\n",
       "      <td>10</td>\n",
       "      <td>8</td>\n",
       "      <td>0</td>\n",
       "      <td>9</td>\n",
       "      <td>0</td>\n",
       "    </tr>\n",
       "    <tr>\n",
       "      <th>4</th>\n",
       "      <td>RETIRO</td>\n",
       "      <td>3</td>\n",
       "      <td>1</td>\n",
       "      <td>0</td>\n",
       "      <td>1</td>\n",
       "      <td>2</td>\n",
       "    </tr>\n",
       "  </tbody>\n",
       "</table>\n",
       "</div>"
      ],
      "text/plain": [
       "  SEGURIDAD CIUDADANA                     Unnamed: 1  \\\n",
       "0                 NaN                            NaN   \n",
       "1           DISTRITOS  RELACIONADAS CON LAS PERSONAS   \n",
       "2              CENTRO                             33   \n",
       "3          ARGANZUELA                             10   \n",
       "4              RETIRO                              3   \n",
       "\n",
       "                       Unnamed: 2             Unnamed: 3  \\\n",
       "0                             NaN                    NaN   \n",
       "1  RELACIONADAS CON EL PATRIMONIO  POR TENENCIA DE ARMAS   \n",
       "2                             711                      2   \n",
       "3                               8                      0   \n",
       "4                               1                      0   \n",
       "\n",
       "               Unnamed: 4             Unnamed: 5  \n",
       "0                     NaN                    NaN  \n",
       "1  POR TENENCIA DE DROGAS  POR CONSUMO DE DROGAS  \n",
       "2                      22                      1  \n",
       "3                       9                      0  \n",
       "4                       1                      2  "
      ]
     },
     "execution_count": 7,
     "metadata": {},
     "output_type": "execute_result"
    }
   ],
   "source": [
    "crimes.head() ## -> Mover los datos hacía arriba"
   ]
  },
  {
   "cell_type": "code",
   "execution_count": 8,
   "metadata": {},
   "outputs": [
    {
     "data": {
      "text/plain": [
       "Index(['SEGURIDAD CIUDADANA', 'Unnamed: 1', 'Unnamed: 2', 'Unnamed: 3',\n",
       "       'Unnamed: 4', 'Unnamed: 5'],\n",
       "      dtype='object')"
      ]
     },
     "execution_count": 8,
     "metadata": {},
     "output_type": "execute_result"
    }
   ],
   "source": [
    "crimes.columns"
   ]
  },
  {
   "cell_type": "code",
   "execution_count": 9,
   "metadata": {},
   "outputs": [
    {
     "name": "stdout",
     "output_type": "stream",
     "text": [
      "Index(['DISTRITOS', 'RELACIONADAS CON LAS PERSONAS',\n",
      "       'RELACIONADAS CON EL PATRIMONIO', 'POR TENENCIA DE ARMAS',\n",
      "       'POR TENENCIA DE DROGAS', 'POR CONSUMO DE DROGAS'],\n",
      "      dtype='object', name=1)\n"
     ]
    }
   ],
   "source": [
    "crimes.columns = crimes.loc[1, :]\n",
    "print(crimes.columns)"
   ]
  },
  {
   "cell_type": "code",
   "execution_count": 10,
   "metadata": {},
   "outputs": [
    {
     "data": {
      "text/html": [
       "<div>\n",
       "<style scoped>\n",
       "    .dataframe tbody tr th:only-of-type {\n",
       "        vertical-align: middle;\n",
       "    }\n",
       "\n",
       "    .dataframe tbody tr th {\n",
       "        vertical-align: top;\n",
       "    }\n",
       "\n",
       "    .dataframe thead th {\n",
       "        text-align: right;\n",
       "    }\n",
       "</style>\n",
       "<table border=\"1\" class=\"dataframe\">\n",
       "  <thead>\n",
       "    <tr style=\"text-align: right;\">\n",
       "      <th>1</th>\n",
       "      <th>DISTRITOS</th>\n",
       "      <th>RELACIONADAS CON LAS PERSONAS</th>\n",
       "      <th>RELACIONADAS CON EL PATRIMONIO</th>\n",
       "      <th>POR TENENCIA DE ARMAS</th>\n",
       "      <th>POR TENENCIA DE DROGAS</th>\n",
       "      <th>POR CONSUMO DE DROGAS</th>\n",
       "    </tr>\n",
       "  </thead>\n",
       "  <tbody>\n",
       "    <tr>\n",
       "      <th>0</th>\n",
       "      <td>CENTRO</td>\n",
       "      <td>33</td>\n",
       "      <td>711</td>\n",
       "      <td>2</td>\n",
       "      <td>22</td>\n",
       "      <td>1</td>\n",
       "    </tr>\n",
       "    <tr>\n",
       "      <th>1</th>\n",
       "      <td>ARGANZUELA</td>\n",
       "      <td>10</td>\n",
       "      <td>8</td>\n",
       "      <td>0</td>\n",
       "      <td>9</td>\n",
       "      <td>0</td>\n",
       "    </tr>\n",
       "    <tr>\n",
       "      <th>2</th>\n",
       "      <td>RETIRO</td>\n",
       "      <td>3</td>\n",
       "      <td>1</td>\n",
       "      <td>0</td>\n",
       "      <td>1</td>\n",
       "      <td>2</td>\n",
       "    </tr>\n",
       "    <tr>\n",
       "      <th>3</th>\n",
       "      <td>SALAMANCA</td>\n",
       "      <td>4</td>\n",
       "      <td>36</td>\n",
       "      <td>2</td>\n",
       "      <td>6</td>\n",
       "      <td>0</td>\n",
       "    </tr>\n",
       "    <tr>\n",
       "      <th>4</th>\n",
       "      <td>CHAMARTÍN</td>\n",
       "      <td>10</td>\n",
       "      <td>12</td>\n",
       "      <td>0</td>\n",
       "      <td>23</td>\n",
       "      <td>5</td>\n",
       "    </tr>\n",
       "  </tbody>\n",
       "</table>\n",
       "</div>"
      ],
      "text/plain": [
       "1   DISTRITOS RELACIONADAS CON LAS PERSONAS RELACIONADAS CON EL PATRIMONIO  \\\n",
       "0      CENTRO                            33                            711   \n",
       "1  ARGANZUELA                            10                              8   \n",
       "2      RETIRO                             3                              1   \n",
       "3   SALAMANCA                             4                             36   \n",
       "4   CHAMARTÍN                            10                             12   \n",
       "\n",
       "1 POR TENENCIA DE ARMAS POR TENENCIA DE DROGAS POR CONSUMO DE DROGAS  \n",
       "0                     2                     22                     1  \n",
       "1                     0                      9                     0  \n",
       "2                     0                      1                     2  \n",
       "3                     2                      6                     0  \n",
       "4                     0                     23                     5  "
      ]
     },
     "execution_count": 10,
     "metadata": {},
     "output_type": "execute_result"
    }
   ],
   "source": [
    "crimes.drop([0, 1, len(crimes) - 1], inplace=True)\n",
    "crimes.reset_index(drop=True, inplace=True)\n",
    "crimes.head()"
   ]
  },
  {
   "cell_type": "markdown",
   "metadata": {},
   "source": [
    "## 3. Guardar los datos procesados"
   ]
  },
  {
   "cell_type": "code",
   "execution_count": 11,
   "metadata": {},
   "outputs": [],
   "source": [
    "listings.to_csv(os.path.join(output_data_path, 'listings_merged.csv'), index=False)\n",
    "calendar.to_csv(os.path.join(output_data_path, 'calendar.csv'), index=False)\n",
    "crimes.to_csv(os.path.join(output_data_path, 'crimes.csv'), index=False)\n",
    "gdf = gdf.to_crs(epsg=4326)\n",
    "gdf.to_file(os.path.join(output_data_path, 'neighbourhoods.geojson'), driver='GeoJSON')\n",
    "metro.to_csv(os.path.join(output_data_path, 'metro.csv'), index=False)"
   ]
  }
 ],
 "metadata": {
  "kernelspec": {
   "display_name": "env",
   "language": "python",
   "name": "python3"
  },
  "language_info": {
   "codemirror_mode": {
    "name": "ipython",
    "version": 3
   },
   "file_extension": ".py",
   "mimetype": "text/x-python",
   "name": "python",
   "nbconvert_exporter": "python",
   "pygments_lexer": "ipython3",
   "version": "3.13.1"
  }
 },
 "nbformat": 4,
 "nbformat_minor": 2
}
