{
 "cells": [
  {
   "cell_type": "code",
   "execution_count": 1,
   "metadata": {},
   "outputs": [],
   "source": [
    "import pandas as pd\n",
    "import geopandas as gpd\n",
    "import os\n",
    "from dash import Dash, html, dcc, Input, Output\n",
    "\n",
    "from handlers.general_visualization import GeneralVisualization\n",
    "from handlers.district_visualization import DistrictVisualization\n",
    "from handlers.metro_visualization import MetroVisualization\n",
    "from handlers.crime_visualization import CrimeVisualization\n",
    "from handlers.general_use import add_borders"
   ]
  },
  {
   "cell_type": "code",
   "execution_count": 2,
   "metadata": {},
   "outputs": [],
   "source": [
    "data_path = os.path.join(os.path.dirname(os.getcwd()),  'data', 'pancho_clean')\n",
    "listings = pd.read_csv(os.path.join(data_path, 'listings_merged.csv'))\n",
    "calendar = pd.read_csv(os.path.join(data_path, 'calendar.csv'))\n",
    "gdf = gpd.read_file(os.path.join(data_path, 'neighbourhoods.geojson'))\n",
    "crimes = pd.read_csv(os.path.join(data_path, 'crimes.csv'))\n",
    "metro = pd.read_csv(os.path.join(data_path, 'metro.csv'))"
   ]
  },
  {
   "cell_type": "code",
   "execution_count": 3,
   "metadata": {},
   "outputs": [],
   "source": [
    "gv = GeneralVisualization(listings, gdf)\n",
    "dv = DistrictVisualization(listings, gdf)\n",
    "mv = MetroVisualization(listings, metro, gdf)\n",
    "cv = CrimeVisualization(crimes, gdf)"
   ]
  },
  {
   "cell_type": "code",
   "execution_count": 4,
   "metadata": {},
   "outputs": [
    {
     "data": {
      "text/html": [
       "\n",
       "        <iframe\n",
       "            width=\"100%\"\n",
       "            height=\"650\"\n",
       "            src=\"http://127.0.0.1:8050/\"\n",
       "            frameborder=\"0\"\n",
       "            allowfullscreen\n",
       "            \n",
       "        ></iframe>\n",
       "        "
      ],
      "text/plain": [
       "<IPython.lib.display.IFrame at 0x12beaf380>"
      ]
     },
     "metadata": {},
     "output_type": "display_data"
    },
    {
     "data": {
      "application/vnd.plotly.v1+json": {
       "config": {
        "plotlyServerURL": "https://plot.ly"
       },
       "data": [
        {
         "coloraxis": "coloraxis",
         "hovertemplate": "x: %{x}<br>y: %{y}<br>color: %{z}<extra></extra>",
         "name": "0",
         "texttemplate": "%{z}",
         "type": "heatmap",
         "x": [
          "RELACIONADAS CON LAS PERSONAS",
          "RELACIONADAS CON EL PATRIMONIO",
          "POR TENENCIA DE ARMAS",
          "POR TENENCIA DE DROGAS",
          "POR CONSUMO DE DROGAS"
         ],
         "xaxis": "x",
         "y": [
          "RELACIONADAS CON LAS PERSONAS",
          "RELACIONADAS CON EL PATRIMONIO",
          "POR TENENCIA DE ARMAS",
          "POR TENENCIA DE DROGAS",
          "POR CONSUMO DE DROGAS"
         ],
         "yaxis": "y",
         "z": [
          [
           1,
           0.7068632852596374,
           0.3848779149527739,
           0.5756651081270124,
           0.44418444207077207
          ],
          [
           0.7068632852596374,
           1,
           0.06178804081703481,
           0.19666268911676268,
           -0.0071734056578681765
          ],
          [
           0.3848779149527739,
           0.06178804081703481,
           1,
           0.6959222194920219,
           0.3780199939728292
          ],
          [
           0.5756651081270124,
           0.19666268911676268,
           0.6959222194920219,
           1,
           0.771695843158253
          ],
          [
           0.44418444207077207,
           -0.0071734056578681765,
           0.3780199939728292,
           0.771695843158253,
           1
          ]
         ]
        }
       ],
       "layout": {
        "coloraxis": {
         "colorscale": [
          [
           0,
           "#0d0887"
          ],
          [
           0.1111111111111111,
           "#46039f"
          ],
          [
           0.2222222222222222,
           "#7201a8"
          ],
          [
           0.3333333333333333,
           "#9c179e"
          ],
          [
           0.4444444444444444,
           "#bd3786"
          ],
          [
           0.5555555555555556,
           "#d8576b"
          ],
          [
           0.6666666666666666,
           "#ed7953"
          ],
          [
           0.7777777777777778,
           "#fb9f3a"
          ],
          [
           0.8888888888888888,
           "#fdca26"
          ],
          [
           1,
           "#f0f921"
          ]
         ]
        },
        "template": {
         "data": {
          "bar": [
           {
            "error_x": {
             "color": "#2a3f5f"
            },
            "error_y": {
             "color": "#2a3f5f"
            },
            "marker": {
             "line": {
              "color": "#E5ECF6",
              "width": 0.5
             },
             "pattern": {
              "fillmode": "overlay",
              "size": 10,
              "solidity": 0.2
             }
            },
            "type": "bar"
           }
          ],
          "barpolar": [
           {
            "marker": {
             "line": {
              "color": "#E5ECF6",
              "width": 0.5
             },
             "pattern": {
              "fillmode": "overlay",
              "size": 10,
              "solidity": 0.2
             }
            },
            "type": "barpolar"
           }
          ],
          "carpet": [
           {
            "aaxis": {
             "endlinecolor": "#2a3f5f",
             "gridcolor": "white",
             "linecolor": "white",
             "minorgridcolor": "white",
             "startlinecolor": "#2a3f5f"
            },
            "baxis": {
             "endlinecolor": "#2a3f5f",
             "gridcolor": "white",
             "linecolor": "white",
             "minorgridcolor": "white",
             "startlinecolor": "#2a3f5f"
            },
            "type": "carpet"
           }
          ],
          "choropleth": [
           {
            "colorbar": {
             "outlinewidth": 0,
             "ticks": ""
            },
            "type": "choropleth"
           }
          ],
          "contour": [
           {
            "colorbar": {
             "outlinewidth": 0,
             "ticks": ""
            },
            "colorscale": [
             [
              0,
              "#0d0887"
             ],
             [
              0.1111111111111111,
              "#46039f"
             ],
             [
              0.2222222222222222,
              "#7201a8"
             ],
             [
              0.3333333333333333,
              "#9c179e"
             ],
             [
              0.4444444444444444,
              "#bd3786"
             ],
             [
              0.5555555555555556,
              "#d8576b"
             ],
             [
              0.6666666666666666,
              "#ed7953"
             ],
             [
              0.7777777777777778,
              "#fb9f3a"
             ],
             [
              0.8888888888888888,
              "#fdca26"
             ],
             [
              1,
              "#f0f921"
             ]
            ],
            "type": "contour"
           }
          ],
          "contourcarpet": [
           {
            "colorbar": {
             "outlinewidth": 0,
             "ticks": ""
            },
            "type": "contourcarpet"
           }
          ],
          "heatmap": [
           {
            "colorbar": {
             "outlinewidth": 0,
             "ticks": ""
            },
            "colorscale": [
             [
              0,
              "#0d0887"
             ],
             [
              0.1111111111111111,
              "#46039f"
             ],
             [
              0.2222222222222222,
              "#7201a8"
             ],
             [
              0.3333333333333333,
              "#9c179e"
             ],
             [
              0.4444444444444444,
              "#bd3786"
             ],
             [
              0.5555555555555556,
              "#d8576b"
             ],
             [
              0.6666666666666666,
              "#ed7953"
             ],
             [
              0.7777777777777778,
              "#fb9f3a"
             ],
             [
              0.8888888888888888,
              "#fdca26"
             ],
             [
              1,
              "#f0f921"
             ]
            ],
            "type": "heatmap"
           }
          ],
          "heatmapgl": [
           {
            "colorbar": {
             "outlinewidth": 0,
             "ticks": ""
            },
            "colorscale": [
             [
              0,
              "#0d0887"
             ],
             [
              0.1111111111111111,
              "#46039f"
             ],
             [
              0.2222222222222222,
              "#7201a8"
             ],
             [
              0.3333333333333333,
              "#9c179e"
             ],
             [
              0.4444444444444444,
              "#bd3786"
             ],
             [
              0.5555555555555556,
              "#d8576b"
             ],
             [
              0.6666666666666666,
              "#ed7953"
             ],
             [
              0.7777777777777778,
              "#fb9f3a"
             ],
             [
              0.8888888888888888,
              "#fdca26"
             ],
             [
              1,
              "#f0f921"
             ]
            ],
            "type": "heatmapgl"
           }
          ],
          "histogram": [
           {
            "marker": {
             "pattern": {
              "fillmode": "overlay",
              "size": 10,
              "solidity": 0.2
             }
            },
            "type": "histogram"
           }
          ],
          "histogram2d": [
           {
            "colorbar": {
             "outlinewidth": 0,
             "ticks": ""
            },
            "colorscale": [
             [
              0,
              "#0d0887"
             ],
             [
              0.1111111111111111,
              "#46039f"
             ],
             [
              0.2222222222222222,
              "#7201a8"
             ],
             [
              0.3333333333333333,
              "#9c179e"
             ],
             [
              0.4444444444444444,
              "#bd3786"
             ],
             [
              0.5555555555555556,
              "#d8576b"
             ],
             [
              0.6666666666666666,
              "#ed7953"
             ],
             [
              0.7777777777777778,
              "#fb9f3a"
             ],
             [
              0.8888888888888888,
              "#fdca26"
             ],
             [
              1,
              "#f0f921"
             ]
            ],
            "type": "histogram2d"
           }
          ],
          "histogram2dcontour": [
           {
            "colorbar": {
             "outlinewidth": 0,
             "ticks": ""
            },
            "colorscale": [
             [
              0,
              "#0d0887"
             ],
             [
              0.1111111111111111,
              "#46039f"
             ],
             [
              0.2222222222222222,
              "#7201a8"
             ],
             [
              0.3333333333333333,
              "#9c179e"
             ],
             [
              0.4444444444444444,
              "#bd3786"
             ],
             [
              0.5555555555555556,
              "#d8576b"
             ],
             [
              0.6666666666666666,
              "#ed7953"
             ],
             [
              0.7777777777777778,
              "#fb9f3a"
             ],
             [
              0.8888888888888888,
              "#fdca26"
             ],
             [
              1,
              "#f0f921"
             ]
            ],
            "type": "histogram2dcontour"
           }
          ],
          "mesh3d": [
           {
            "colorbar": {
             "outlinewidth": 0,
             "ticks": ""
            },
            "type": "mesh3d"
           }
          ],
          "parcoords": [
           {
            "line": {
             "colorbar": {
              "outlinewidth": 0,
              "ticks": ""
             }
            },
            "type": "parcoords"
           }
          ],
          "pie": [
           {
            "automargin": true,
            "type": "pie"
           }
          ],
          "scatter": [
           {
            "fillpattern": {
             "fillmode": "overlay",
             "size": 10,
             "solidity": 0.2
            },
            "type": "scatter"
           }
          ],
          "scatter3d": [
           {
            "line": {
             "colorbar": {
              "outlinewidth": 0,
              "ticks": ""
             }
            },
            "marker": {
             "colorbar": {
              "outlinewidth": 0,
              "ticks": ""
             }
            },
            "type": "scatter3d"
           }
          ],
          "scattercarpet": [
           {
            "marker": {
             "colorbar": {
              "outlinewidth": 0,
              "ticks": ""
             }
            },
            "type": "scattercarpet"
           }
          ],
          "scattergeo": [
           {
            "marker": {
             "colorbar": {
              "outlinewidth": 0,
              "ticks": ""
             }
            },
            "type": "scattergeo"
           }
          ],
          "scattergl": [
           {
            "marker": {
             "colorbar": {
              "outlinewidth": 0,
              "ticks": ""
             }
            },
            "type": "scattergl"
           }
          ],
          "scattermapbox": [
           {
            "marker": {
             "colorbar": {
              "outlinewidth": 0,
              "ticks": ""
             }
            },
            "type": "scattermapbox"
           }
          ],
          "scatterpolar": [
           {
            "marker": {
             "colorbar": {
              "outlinewidth": 0,
              "ticks": ""
             }
            },
            "type": "scatterpolar"
           }
          ],
          "scatterpolargl": [
           {
            "marker": {
             "colorbar": {
              "outlinewidth": 0,
              "ticks": ""
             }
            },
            "type": "scatterpolargl"
           }
          ],
          "scatterternary": [
           {
            "marker": {
             "colorbar": {
              "outlinewidth": 0,
              "ticks": ""
             }
            },
            "type": "scatterternary"
           }
          ],
          "surface": [
           {
            "colorbar": {
             "outlinewidth": 0,
             "ticks": ""
            },
            "colorscale": [
             [
              0,
              "#0d0887"
             ],
             [
              0.1111111111111111,
              "#46039f"
             ],
             [
              0.2222222222222222,
              "#7201a8"
             ],
             [
              0.3333333333333333,
              "#9c179e"
             ],
             [
              0.4444444444444444,
              "#bd3786"
             ],
             [
              0.5555555555555556,
              "#d8576b"
             ],
             [
              0.6666666666666666,
              "#ed7953"
             ],
             [
              0.7777777777777778,
              "#fb9f3a"
             ],
             [
              0.8888888888888888,
              "#fdca26"
             ],
             [
              1,
              "#f0f921"
             ]
            ],
            "type": "surface"
           }
          ],
          "table": [
           {
            "cells": {
             "fill": {
              "color": "#EBF0F8"
             },
             "line": {
              "color": "white"
             }
            },
            "header": {
             "fill": {
              "color": "#C8D4E3"
             },
             "line": {
              "color": "white"
             }
            },
            "type": "table"
           }
          ]
         },
         "layout": {
          "annotationdefaults": {
           "arrowcolor": "#2a3f5f",
           "arrowhead": 0,
           "arrowwidth": 1
          },
          "autotypenumbers": "strict",
          "coloraxis": {
           "colorbar": {
            "outlinewidth": 0,
            "ticks": ""
           }
          },
          "colorscale": {
           "diverging": [
            [
             0,
             "#8e0152"
            ],
            [
             0.1,
             "#c51b7d"
            ],
            [
             0.2,
             "#de77ae"
            ],
            [
             0.3,
             "#f1b6da"
            ],
            [
             0.4,
             "#fde0ef"
            ],
            [
             0.5,
             "#f7f7f7"
            ],
            [
             0.6,
             "#e6f5d0"
            ],
            [
             0.7,
             "#b8e186"
            ],
            [
             0.8,
             "#7fbc41"
            ],
            [
             0.9,
             "#4d9221"
            ],
            [
             1,
             "#276419"
            ]
           ],
           "sequential": [
            [
             0,
             "#0d0887"
            ],
            [
             0.1111111111111111,
             "#46039f"
            ],
            [
             0.2222222222222222,
             "#7201a8"
            ],
            [
             0.3333333333333333,
             "#9c179e"
            ],
            [
             0.4444444444444444,
             "#bd3786"
            ],
            [
             0.5555555555555556,
             "#d8576b"
            ],
            [
             0.6666666666666666,
             "#ed7953"
            ],
            [
             0.7777777777777778,
             "#fb9f3a"
            ],
            [
             0.8888888888888888,
             "#fdca26"
            ],
            [
             1,
             "#f0f921"
            ]
           ],
           "sequentialminus": [
            [
             0,
             "#0d0887"
            ],
            [
             0.1111111111111111,
             "#46039f"
            ],
            [
             0.2222222222222222,
             "#7201a8"
            ],
            [
             0.3333333333333333,
             "#9c179e"
            ],
            [
             0.4444444444444444,
             "#bd3786"
            ],
            [
             0.5555555555555556,
             "#d8576b"
            ],
            [
             0.6666666666666666,
             "#ed7953"
            ],
            [
             0.7777777777777778,
             "#fb9f3a"
            ],
            [
             0.8888888888888888,
             "#fdca26"
            ],
            [
             1,
             "#f0f921"
            ]
           ]
          },
          "colorway": [
           "#636efa",
           "#EF553B",
           "#00cc96",
           "#ab63fa",
           "#FFA15A",
           "#19d3f3",
           "#FF6692",
           "#B6E880",
           "#FF97FF",
           "#FECB52"
          ],
          "font": {
           "color": "#2a3f5f"
          },
          "geo": {
           "bgcolor": "white",
           "lakecolor": "white",
           "landcolor": "#E5ECF6",
           "showlakes": true,
           "showland": true,
           "subunitcolor": "white"
          },
          "hoverlabel": {
           "align": "left"
          },
          "hovermode": "closest",
          "mapbox": {
           "style": "light"
          },
          "paper_bgcolor": "white",
          "plot_bgcolor": "#E5ECF6",
          "polar": {
           "angularaxis": {
            "gridcolor": "white",
            "linecolor": "white",
            "ticks": ""
           },
           "bgcolor": "#E5ECF6",
           "radialaxis": {
            "gridcolor": "white",
            "linecolor": "white",
            "ticks": ""
           }
          },
          "scene": {
           "xaxis": {
            "backgroundcolor": "#E5ECF6",
            "gridcolor": "white",
            "gridwidth": 2,
            "linecolor": "white",
            "showbackground": true,
            "ticks": "",
            "zerolinecolor": "white"
           },
           "yaxis": {
            "backgroundcolor": "#E5ECF6",
            "gridcolor": "white",
            "gridwidth": 2,
            "linecolor": "white",
            "showbackground": true,
            "ticks": "",
            "zerolinecolor": "white"
           },
           "zaxis": {
            "backgroundcolor": "#E5ECF6",
            "gridcolor": "white",
            "gridwidth": 2,
            "linecolor": "white",
            "showbackground": true,
            "ticks": "",
            "zerolinecolor": "white"
           }
          },
          "shapedefaults": {
           "line": {
            "color": "#2a3f5f"
           }
          },
          "ternary": {
           "aaxis": {
            "gridcolor": "white",
            "linecolor": "white",
            "ticks": ""
           },
           "baxis": {
            "gridcolor": "white",
            "linecolor": "white",
            "ticks": ""
           },
           "bgcolor": "#E5ECF6",
           "caxis": {
            "gridcolor": "white",
            "linecolor": "white",
            "ticks": ""
           }
          },
          "title": {
           "x": 0.05
          },
          "xaxis": {
           "automargin": true,
           "gridcolor": "white",
           "linecolor": "white",
           "ticks": "",
           "title": {
            "standoff": 15
           },
           "zerolinecolor": "white",
           "zerolinewidth": 2
          },
          "yaxis": {
           "automargin": true,
           "gridcolor": "white",
           "linecolor": "white",
           "ticks": "",
           "title": {
            "standoff": 15
           },
           "zerolinecolor": "white",
           "zerolinewidth": 2
          }
         }
        },
        "title": {
         "text": "Matriz de Correlación entre Tipos de Incidentes"
        },
        "xaxis": {
         "anchor": "y",
         "constrain": "domain",
         "domain": [
          0,
          1
         ],
         "scaleanchor": "y"
        },
        "yaxis": {
         "anchor": "x",
         "autorange": "reversed",
         "constrain": "domain",
         "domain": [
          0,
          1
         ]
        }
       }
      }
     },
     "metadata": {},
     "output_type": "display_data"
    },
    {
     "data": {
      "application/vnd.plotly.v1+json": {
       "config": {
        "plotlyServerURL": "https://plot.ly"
       },
       "data": [
        {
         "coloraxis": "coloraxis",
         "hovertemplate": "x: %{x}<br>y: %{y}<br>color: %{z}<extra></extra>",
         "name": "0",
         "texttemplate": "%{z}",
         "type": "heatmap",
         "x": [
          "RELACIONADAS CON LAS PERSONAS",
          "RELACIONADAS CON EL PATRIMONIO",
          "POR TENENCIA DE ARMAS",
          "POR TENENCIA DE DROGAS",
          "POR CONSUMO DE DROGAS"
         ],
         "xaxis": "x",
         "y": [
          "RELACIONADAS CON LAS PERSONAS",
          "RELACIONADAS CON EL PATRIMONIO",
          "POR TENENCIA DE ARMAS",
          "POR TENENCIA DE DROGAS",
          "POR CONSUMO DE DROGAS"
         ],
         "yaxis": "y",
         "z": [
          [
           1,
           0.7068632852596374,
           0.3848779149527739,
           0.5756651081270124,
           0.44418444207077207
          ],
          [
           0.7068632852596374,
           1,
           0.06178804081703481,
           0.19666268911676268,
           -0.0071734056578681765
          ],
          [
           0.3848779149527739,
           0.06178804081703481,
           1,
           0.6959222194920219,
           0.3780199939728292
          ],
          [
           0.5756651081270124,
           0.19666268911676268,
           0.6959222194920219,
           1,
           0.771695843158253
          ],
          [
           0.44418444207077207,
           -0.0071734056578681765,
           0.3780199939728292,
           0.771695843158253,
           1
          ]
         ]
        }
       ],
       "layout": {
        "coloraxis": {
         "colorscale": [
          [
           0,
           "#0d0887"
          ],
          [
           0.1111111111111111,
           "#46039f"
          ],
          [
           0.2222222222222222,
           "#7201a8"
          ],
          [
           0.3333333333333333,
           "#9c179e"
          ],
          [
           0.4444444444444444,
           "#bd3786"
          ],
          [
           0.5555555555555556,
           "#d8576b"
          ],
          [
           0.6666666666666666,
           "#ed7953"
          ],
          [
           0.7777777777777778,
           "#fb9f3a"
          ],
          [
           0.8888888888888888,
           "#fdca26"
          ],
          [
           1,
           "#f0f921"
          ]
         ]
        },
        "template": {
         "data": {
          "bar": [
           {
            "error_x": {
             "color": "#2a3f5f"
            },
            "error_y": {
             "color": "#2a3f5f"
            },
            "marker": {
             "line": {
              "color": "#E5ECF6",
              "width": 0.5
             },
             "pattern": {
              "fillmode": "overlay",
              "size": 10,
              "solidity": 0.2
             }
            },
            "type": "bar"
           }
          ],
          "barpolar": [
           {
            "marker": {
             "line": {
              "color": "#E5ECF6",
              "width": 0.5
             },
             "pattern": {
              "fillmode": "overlay",
              "size": 10,
              "solidity": 0.2
             }
            },
            "type": "barpolar"
           }
          ],
          "carpet": [
           {
            "aaxis": {
             "endlinecolor": "#2a3f5f",
             "gridcolor": "white",
             "linecolor": "white",
             "minorgridcolor": "white",
             "startlinecolor": "#2a3f5f"
            },
            "baxis": {
             "endlinecolor": "#2a3f5f",
             "gridcolor": "white",
             "linecolor": "white",
             "minorgridcolor": "white",
             "startlinecolor": "#2a3f5f"
            },
            "type": "carpet"
           }
          ],
          "choropleth": [
           {
            "colorbar": {
             "outlinewidth": 0,
             "ticks": ""
            },
            "type": "choropleth"
           }
          ],
          "contour": [
           {
            "colorbar": {
             "outlinewidth": 0,
             "ticks": ""
            },
            "colorscale": [
             [
              0,
              "#0d0887"
             ],
             [
              0.1111111111111111,
              "#46039f"
             ],
             [
              0.2222222222222222,
              "#7201a8"
             ],
             [
              0.3333333333333333,
              "#9c179e"
             ],
             [
              0.4444444444444444,
              "#bd3786"
             ],
             [
              0.5555555555555556,
              "#d8576b"
             ],
             [
              0.6666666666666666,
              "#ed7953"
             ],
             [
              0.7777777777777778,
              "#fb9f3a"
             ],
             [
              0.8888888888888888,
              "#fdca26"
             ],
             [
              1,
              "#f0f921"
             ]
            ],
            "type": "contour"
           }
          ],
          "contourcarpet": [
           {
            "colorbar": {
             "outlinewidth": 0,
             "ticks": ""
            },
            "type": "contourcarpet"
           }
          ],
          "heatmap": [
           {
            "colorbar": {
             "outlinewidth": 0,
             "ticks": ""
            },
            "colorscale": [
             [
              0,
              "#0d0887"
             ],
             [
              0.1111111111111111,
              "#46039f"
             ],
             [
              0.2222222222222222,
              "#7201a8"
             ],
             [
              0.3333333333333333,
              "#9c179e"
             ],
             [
              0.4444444444444444,
              "#bd3786"
             ],
             [
              0.5555555555555556,
              "#d8576b"
             ],
             [
              0.6666666666666666,
              "#ed7953"
             ],
             [
              0.7777777777777778,
              "#fb9f3a"
             ],
             [
              0.8888888888888888,
              "#fdca26"
             ],
             [
              1,
              "#f0f921"
             ]
            ],
            "type": "heatmap"
           }
          ],
          "heatmapgl": [
           {
            "colorbar": {
             "outlinewidth": 0,
             "ticks": ""
            },
            "colorscale": [
             [
              0,
              "#0d0887"
             ],
             [
              0.1111111111111111,
              "#46039f"
             ],
             [
              0.2222222222222222,
              "#7201a8"
             ],
             [
              0.3333333333333333,
              "#9c179e"
             ],
             [
              0.4444444444444444,
              "#bd3786"
             ],
             [
              0.5555555555555556,
              "#d8576b"
             ],
             [
              0.6666666666666666,
              "#ed7953"
             ],
             [
              0.7777777777777778,
              "#fb9f3a"
             ],
             [
              0.8888888888888888,
              "#fdca26"
             ],
             [
              1,
              "#f0f921"
             ]
            ],
            "type": "heatmapgl"
           }
          ],
          "histogram": [
           {
            "marker": {
             "pattern": {
              "fillmode": "overlay",
              "size": 10,
              "solidity": 0.2
             }
            },
            "type": "histogram"
           }
          ],
          "histogram2d": [
           {
            "colorbar": {
             "outlinewidth": 0,
             "ticks": ""
            },
            "colorscale": [
             [
              0,
              "#0d0887"
             ],
             [
              0.1111111111111111,
              "#46039f"
             ],
             [
              0.2222222222222222,
              "#7201a8"
             ],
             [
              0.3333333333333333,
              "#9c179e"
             ],
             [
              0.4444444444444444,
              "#bd3786"
             ],
             [
              0.5555555555555556,
              "#d8576b"
             ],
             [
              0.6666666666666666,
              "#ed7953"
             ],
             [
              0.7777777777777778,
              "#fb9f3a"
             ],
             [
              0.8888888888888888,
              "#fdca26"
             ],
             [
              1,
              "#f0f921"
             ]
            ],
            "type": "histogram2d"
           }
          ],
          "histogram2dcontour": [
           {
            "colorbar": {
             "outlinewidth": 0,
             "ticks": ""
            },
            "colorscale": [
             [
              0,
              "#0d0887"
             ],
             [
              0.1111111111111111,
              "#46039f"
             ],
             [
              0.2222222222222222,
              "#7201a8"
             ],
             [
              0.3333333333333333,
              "#9c179e"
             ],
             [
              0.4444444444444444,
              "#bd3786"
             ],
             [
              0.5555555555555556,
              "#d8576b"
             ],
             [
              0.6666666666666666,
              "#ed7953"
             ],
             [
              0.7777777777777778,
              "#fb9f3a"
             ],
             [
              0.8888888888888888,
              "#fdca26"
             ],
             [
              1,
              "#f0f921"
             ]
            ],
            "type": "histogram2dcontour"
           }
          ],
          "mesh3d": [
           {
            "colorbar": {
             "outlinewidth": 0,
             "ticks": ""
            },
            "type": "mesh3d"
           }
          ],
          "parcoords": [
           {
            "line": {
             "colorbar": {
              "outlinewidth": 0,
              "ticks": ""
             }
            },
            "type": "parcoords"
           }
          ],
          "pie": [
           {
            "automargin": true,
            "type": "pie"
           }
          ],
          "scatter": [
           {
            "fillpattern": {
             "fillmode": "overlay",
             "size": 10,
             "solidity": 0.2
            },
            "type": "scatter"
           }
          ],
          "scatter3d": [
           {
            "line": {
             "colorbar": {
              "outlinewidth": 0,
              "ticks": ""
             }
            },
            "marker": {
             "colorbar": {
              "outlinewidth": 0,
              "ticks": ""
             }
            },
            "type": "scatter3d"
           }
          ],
          "scattercarpet": [
           {
            "marker": {
             "colorbar": {
              "outlinewidth": 0,
              "ticks": ""
             }
            },
            "type": "scattercarpet"
           }
          ],
          "scattergeo": [
           {
            "marker": {
             "colorbar": {
              "outlinewidth": 0,
              "ticks": ""
             }
            },
            "type": "scattergeo"
           }
          ],
          "scattergl": [
           {
            "marker": {
             "colorbar": {
              "outlinewidth": 0,
              "ticks": ""
             }
            },
            "type": "scattergl"
           }
          ],
          "scattermapbox": [
           {
            "marker": {
             "colorbar": {
              "outlinewidth": 0,
              "ticks": ""
             }
            },
            "type": "scattermapbox"
           }
          ],
          "scatterpolar": [
           {
            "marker": {
             "colorbar": {
              "outlinewidth": 0,
              "ticks": ""
             }
            },
            "type": "scatterpolar"
           }
          ],
          "scatterpolargl": [
           {
            "marker": {
             "colorbar": {
              "outlinewidth": 0,
              "ticks": ""
             }
            },
            "type": "scatterpolargl"
           }
          ],
          "scatterternary": [
           {
            "marker": {
             "colorbar": {
              "outlinewidth": 0,
              "ticks": ""
             }
            },
            "type": "scatterternary"
           }
          ],
          "surface": [
           {
            "colorbar": {
             "outlinewidth": 0,
             "ticks": ""
            },
            "colorscale": [
             [
              0,
              "#0d0887"
             ],
             [
              0.1111111111111111,
              "#46039f"
             ],
             [
              0.2222222222222222,
              "#7201a8"
             ],
             [
              0.3333333333333333,
              "#9c179e"
             ],
             [
              0.4444444444444444,
              "#bd3786"
             ],
             [
              0.5555555555555556,
              "#d8576b"
             ],
             [
              0.6666666666666666,
              "#ed7953"
             ],
             [
              0.7777777777777778,
              "#fb9f3a"
             ],
             [
              0.8888888888888888,
              "#fdca26"
             ],
             [
              1,
              "#f0f921"
             ]
            ],
            "type": "surface"
           }
          ],
          "table": [
           {
            "cells": {
             "fill": {
              "color": "#EBF0F8"
             },
             "line": {
              "color": "white"
             }
            },
            "header": {
             "fill": {
              "color": "#C8D4E3"
             },
             "line": {
              "color": "white"
             }
            },
            "type": "table"
           }
          ]
         },
         "layout": {
          "annotationdefaults": {
           "arrowcolor": "#2a3f5f",
           "arrowhead": 0,
           "arrowwidth": 1
          },
          "autotypenumbers": "strict",
          "coloraxis": {
           "colorbar": {
            "outlinewidth": 0,
            "ticks": ""
           }
          },
          "colorscale": {
           "diverging": [
            [
             0,
             "#8e0152"
            ],
            [
             0.1,
             "#c51b7d"
            ],
            [
             0.2,
             "#de77ae"
            ],
            [
             0.3,
             "#f1b6da"
            ],
            [
             0.4,
             "#fde0ef"
            ],
            [
             0.5,
             "#f7f7f7"
            ],
            [
             0.6,
             "#e6f5d0"
            ],
            [
             0.7,
             "#b8e186"
            ],
            [
             0.8,
             "#7fbc41"
            ],
            [
             0.9,
             "#4d9221"
            ],
            [
             1,
             "#276419"
            ]
           ],
           "sequential": [
            [
             0,
             "#0d0887"
            ],
            [
             0.1111111111111111,
             "#46039f"
            ],
            [
             0.2222222222222222,
             "#7201a8"
            ],
            [
             0.3333333333333333,
             "#9c179e"
            ],
            [
             0.4444444444444444,
             "#bd3786"
            ],
            [
             0.5555555555555556,
             "#d8576b"
            ],
            [
             0.6666666666666666,
             "#ed7953"
            ],
            [
             0.7777777777777778,
             "#fb9f3a"
            ],
            [
             0.8888888888888888,
             "#fdca26"
            ],
            [
             1,
             "#f0f921"
            ]
           ],
           "sequentialminus": [
            [
             0,
             "#0d0887"
            ],
            [
             0.1111111111111111,
             "#46039f"
            ],
            [
             0.2222222222222222,
             "#7201a8"
            ],
            [
             0.3333333333333333,
             "#9c179e"
            ],
            [
             0.4444444444444444,
             "#bd3786"
            ],
            [
             0.5555555555555556,
             "#d8576b"
            ],
            [
             0.6666666666666666,
             "#ed7953"
            ],
            [
             0.7777777777777778,
             "#fb9f3a"
            ],
            [
             0.8888888888888888,
             "#fdca26"
            ],
            [
             1,
             "#f0f921"
            ]
           ]
          },
          "colorway": [
           "#636efa",
           "#EF553B",
           "#00cc96",
           "#ab63fa",
           "#FFA15A",
           "#19d3f3",
           "#FF6692",
           "#B6E880",
           "#FF97FF",
           "#FECB52"
          ],
          "font": {
           "color": "#2a3f5f"
          },
          "geo": {
           "bgcolor": "white",
           "lakecolor": "white",
           "landcolor": "#E5ECF6",
           "showlakes": true,
           "showland": true,
           "subunitcolor": "white"
          },
          "hoverlabel": {
           "align": "left"
          },
          "hovermode": "closest",
          "mapbox": {
           "style": "light"
          },
          "paper_bgcolor": "white",
          "plot_bgcolor": "#E5ECF6",
          "polar": {
           "angularaxis": {
            "gridcolor": "white",
            "linecolor": "white",
            "ticks": ""
           },
           "bgcolor": "#E5ECF6",
           "radialaxis": {
            "gridcolor": "white",
            "linecolor": "white",
            "ticks": ""
           }
          },
          "scene": {
           "xaxis": {
            "backgroundcolor": "#E5ECF6",
            "gridcolor": "white",
            "gridwidth": 2,
            "linecolor": "white",
            "showbackground": true,
            "ticks": "",
            "zerolinecolor": "white"
           },
           "yaxis": {
            "backgroundcolor": "#E5ECF6",
            "gridcolor": "white",
            "gridwidth": 2,
            "linecolor": "white",
            "showbackground": true,
            "ticks": "",
            "zerolinecolor": "white"
           },
           "zaxis": {
            "backgroundcolor": "#E5ECF6",
            "gridcolor": "white",
            "gridwidth": 2,
            "linecolor": "white",
            "showbackground": true,
            "ticks": "",
            "zerolinecolor": "white"
           }
          },
          "shapedefaults": {
           "line": {
            "color": "#2a3f5f"
           }
          },
          "ternary": {
           "aaxis": {
            "gridcolor": "white",
            "linecolor": "white",
            "ticks": ""
           },
           "baxis": {
            "gridcolor": "white",
            "linecolor": "white",
            "ticks": ""
           },
           "bgcolor": "#E5ECF6",
           "caxis": {
            "gridcolor": "white",
            "linecolor": "white",
            "ticks": ""
           }
          },
          "title": {
           "x": 0.05
          },
          "xaxis": {
           "automargin": true,
           "gridcolor": "white",
           "linecolor": "white",
           "ticks": "",
           "title": {
            "standoff": 15
           },
           "zerolinecolor": "white",
           "zerolinewidth": 2
          },
          "yaxis": {
           "automargin": true,
           "gridcolor": "white",
           "linecolor": "white",
           "ticks": "",
           "title": {
            "standoff": 15
           },
           "zerolinecolor": "white",
           "zerolinewidth": 2
          }
         }
        },
        "title": {
         "text": "Matriz de Correlación entre Tipos de Incidentes"
        },
        "xaxis": {
         "anchor": "y",
         "constrain": "domain",
         "domain": [
          0,
          1
         ],
         "scaleanchor": "y"
        },
        "yaxis": {
         "anchor": "x",
         "autorange": "reversed",
         "constrain": "domain",
         "domain": [
          0,
          1
         ]
        }
       }
      }
     },
     "metadata": {},
     "output_type": "display_data"
    },
    {
     "name": "stdout",
     "output_type": "stream",
     "text": [
      "---------------------------------------------------------------------------\n",
      "KeyError                                  Traceback (most recent call last)\n",
      "File ~/Desktop/PRVD-2/env/lib/python3.13/site-packages/pandas/core/indexes/base.py:3805, in Index.get_loc(\n",
      "    self=Index(['neighbourhood', 'neighbourhood_group', 'geometry'], dtype='object'),\n",
      "    key='LATITUDE'\n",
      ")\n",
      "   3804 try:\n",
      "-> 3805     return self._engine.get_loc(casted_key)\n",
      "        casted_key = 'LATITUDE'\n",
      "        self = Index(['neighbourhood', 'neighbourhood_group', 'geometry'], dtype='object')\n",
      "   3806 except KeyError as err:\n",
      "\n",
      "File index.pyx:167, in pandas._libs.index.IndexEngine.get_loc()\n",
      "\n",
      "File index.pyx:196, in pandas._libs.index.IndexEngine.get_loc()\n",
      "\n",
      "File pandas/_libs/hashtable_class_helper.pxi:7081, in pandas._libs.hashtable.PyObjectHashTable.get_item()\n",
      "\n",
      "File pandas/_libs/hashtable_class_helper.pxi:7089, in pandas._libs.hashtable.PyObjectHashTable.get_item()\n",
      "\n",
      "KeyError: 'LATITUDE'\n",
      "\n",
      "The above exception was the direct cause of the following exception:\n",
      "\n",
      "KeyError                                  Traceback (most recent call last)\n",
      "Cell In[4], line 39, in crimes_graphs(_='crimes-graphs')\n",
      "     33 @app.callback(\n",
      "     34 \tOutput('crimes-graphs', 'children'),\n",
      "     35 \tInput('crimes-graphs', 'id')\n",
      "     36 )\n",
      "     37 def crimes_graphs(_):\n",
      "     38 \tgraphs = cv.get_all_graphs()\n",
      "---> 39 \tmap = cv.get_map()\n",
      "        cv = <handlers.crime_visualization.CrimeVisualization object at 0x12b9c7620>\n",
      "     40 \tmap_html = map._repr_html_()\n",
      "     42 \treturn html.Div([\n",
      "     43 \t\tgraphs,\n",
      "     44 \t\thtml.Iframe(\n",
      "   (...)\n",
      "     51 \t\t)\n",
      "     52 \t])\n",
      "\n",
      "File ~/Desktop/PRVD-2/refactor/handlers/crime_visualization.py:70, in CrimeVisualization.get_map(\n",
      "    self=<handlers.crime_visualization.CrimeVisualization object>\n",
      ")\n",
      "     66 fig = go.Figure()\n",
      "     68 for i in range(len(self.gdf)):\n",
      "     69     fig.add_trace(go.Scattermapbox(\n",
      "---> 70         lat=[self.gdf[\"LATITUDE\"][i]],\n",
      "        fig = Figure({\n",
      "    'data': [], 'layout': {'template': '...'}\n",
      "})\n",
      "        go = <module 'plotly.graph_objects' from '/Users/francip/Desktop/PRVD-2/env/lib/python3.13/site-packages/plotly/graph_objects/__init__.py'>\n",
      "        i = 0\n",
      "        self.gdf =                   neighbourhood neighbourhood_group  \\\n",
      "0                       PALACIO              CENTRO   \n",
      "1                   EMBAJADORES              CENTRO   \n",
      "2                        CORTES              CENTRO   \n",
      "3                      JUSTICIA              CENTRO   \n",
      "4                   UNIVERSIDAD              CENTRO   \n",
      "..                          ...                 ...   \n",
      "123            ALAMEDA DE OSUNA             BARAJAS   \n",
      "124                       TIMÓN             BARAJAS   \n",
      "125                  AEROPUERTO             BARAJAS   \n",
      "126  CASCO HISTÓRICO DE BARAJAS             BARAJAS   \n",
      "127                  CORRALEJOS             BARAJAS   \n",
      "\n",
      "                                              geometry  \n",
      "0    MULTIPOLYGON (((-3.70584 40.4203, -3.70625 40....  \n",
      "1    MULTIPOLYGON (((-3.70384 40.41432, -3.70277 40...  \n",
      "2    MULTIPOLYGON (((-3.69796 40.41929, -3.69645 40...  \n",
      "3    MULTIPOLYGON (((-3.69546 40.41898, -3.69645 40...  \n",
      "4    MULTIPOLYGON (((-3.70108 40.42134, -3.70155 40...  \n",
      "..                                                 ...  \n",
      "123  MULTIPOLYGON (((-3.58243 40.46381, -3.58078 40...  \n",
      "124  MULTIPOLYGON (((-3.5799 40.50159, -3.58002 40....  \n",
      "125  MULTIPOLYGON (((-3.57786 40.51038, -3.57579 40...  \n",
      "126  MULTIPOLYGON (((-3.57446 40.47267, -3.57475 40...  \n",
      "127  MULTIPOLYGON (((-3.59957 40.46867, -3.5987 40....  \n",
      "\n",
      "[128 rows x 3 columns]\n",
      "        self = <handlers.crime_visualization.CrimeVisualization object at 0x12b9c7620>\n",
      "     71         lon=[self.gdf[\"LONGITUDE\"][i]],\n",
      "     72         mode=\"markers\",\n",
      "     73         marker=go.scattermapbox.Marker(\n",
      "     74             size=9,\n",
      "     75             color=\"red\",\n",
      "     76             opacity=0.7\n",
      "     77         ),\n",
      "     78         text=self.gdf[\"DISTRITO\"][i],\n",
      "     79         hoverinfo=\"text\"\n",
      "     80     ))\n",
      "     82 fig.update_layout(\n",
      "     83     mapbox_style=\"open-street-map\",\n",
      "     84     mapbox_center_lon=self.gdf[\"LONGITUDE\"].mean(),\n",
      "     85     mapbox_center_lat=self.gdf[\"LATITUDE\"].mean(),\n",
      "     86     mapbox_zoom=10\n",
      "     87 )\n",
      "     89 return dcc.Graph(figure=fig)\n",
      "\n",
      "File ~/Desktop/PRVD-2/env/lib/python3.13/site-packages/geopandas/geodataframe.py:1750, in GeoDataFrame.__getitem__(\n",
      "    self=                  neighbourhood neighbourhood_gr...0.46867, -3.5987 40....  \n",
      "\n",
      "[128 rows x 3 columns],\n",
      "    key='LATITUDE'\n",
      ")\n",
      "   1744 def __getitem__(self, key):\n",
      "   1745     \"\"\"\n",
      "   1746     If the result is a column containing only 'geometry', return a\n",
      "   1747     GeoSeries. If it's a DataFrame with any columns of GeometryDtype,\n",
      "   1748     return a GeoDataFrame.\n",
      "   1749     \"\"\"\n",
      "-> 1750     result = super().__getitem__(key)\n",
      "        key = 'LATITUDE'\n",
      "   1751     # Custom logic to avoid waiting for pandas GH51895\n",
      "   1752     # result is not geometry dtype for multi-indexes\n",
      "   1753     if (\n",
      "   1754         pd.api.types.is_scalar(key)\n",
      "   1755         and key == \"\"\n",
      "   (...)\n",
      "   1758         and not is_geometry_type(result)\n",
      "   1759     ):\n",
      "\n",
      "File ~/Desktop/PRVD-2/env/lib/python3.13/site-packages/pandas/core/frame.py:4102, in DataFrame.__getitem__(\n",
      "    self=                  neighbourhood neighbourhood_gr...0.46867, -3.5987 40....  \n",
      "\n",
      "[128 rows x 3 columns],\n",
      "    key='LATITUDE'\n",
      ")\n",
      "   4100 if self.columns.nlevels > 1:\n",
      "   4101     return self._getitem_multilevel(key)\n",
      "-> 4102 indexer = self.columns.get_loc(key)\n",
      "        key = 'LATITUDE'\n",
      "        self =                   neighbourhood neighbourhood_group  \\\n",
      "0                       PALACIO              CENTRO   \n",
      "1                   EMBAJADORES              CENTRO   \n",
      "2                        CORTES              CENTRO   \n",
      "3                      JUSTICIA              CENTRO   \n",
      "4                   UNIVERSIDAD              CENTRO   \n",
      "..                          ...                 ...   \n",
      "123            ALAMEDA DE OSUNA             BARAJAS   \n",
      "124                       TIMÓN             BARAJAS   \n",
      "125                  AEROPUERTO             BARAJAS   \n",
      "126  CASCO HISTÓRICO DE BARAJAS             BARAJAS   \n",
      "127                  CORRALEJOS             BARAJAS   \n",
      "\n",
      "                                              geometry  \n",
      "0    MULTIPOLYGON (((-3.70584 40.4203, -3.70625 40....  \n",
      "1    MULTIPOLYGON (((-3.70384 40.41432, -3.70277 40...  \n",
      "2    MULTIPOLYGON (((-3.69796 40.41929, -3.69645 40...  \n",
      "3    MULTIPOLYGON (((-3.69546 40.41898, -3.69645 40...  \n",
      "4    MULTIPOLYGON (((-3.70108 40.42134, -3.70155 40...  \n",
      "..                                                 ...  \n",
      "123  MULTIPOLYGON (((-3.58243 40.46381, -3.58078 40...  \n",
      "124  MULTIPOLYGON (((-3.5799 40.50159, -3.58002 40....  \n",
      "125  MULTIPOLYGON (((-3.57786 40.51038, -3.57579 40...  \n",
      "126  MULTIPOLYGON (((-3.57446 40.47267, -3.57475 40...  \n",
      "127  MULTIPOLYGON (((-3.59957 40.46867, -3.5987 40....  \n",
      "\n",
      "[128 rows x 3 columns]\n",
      "   4103 if is_integer(indexer):\n",
      "   4104     indexer = [indexer]\n",
      "\n",
      "File ~/Desktop/PRVD-2/env/lib/python3.13/site-packages/pandas/core/indexes/base.py:3812, in Index.get_loc(\n",
      "    self=Index(['neighbourhood', 'neighbourhood_group', 'geometry'], dtype='object'),\n",
      "    key='LATITUDE'\n",
      ")\n",
      "   3807     if isinstance(casted_key, slice) or (\n",
      "   3808         isinstance(casted_key, abc.Iterable)\n",
      "   3809         and any(isinstance(x, slice) for x in casted_key)\n",
      "   3810     ):\n",
      "   3811         raise InvalidIndexError(key)\n",
      "-> 3812     raise KeyError(key) from err\n",
      "        key = 'LATITUDE'\n",
      "   3813 except TypeError:\n",
      "   3814     # If we have a listlike key, _check_indexing_error will raise\n",
      "   3815     #  InvalidIndexError. Otherwise we fall through and re-raise\n",
      "   3816     #  the TypeError.\n",
      "   3817     self._check_indexing_error(key)\n",
      "\n",
      "KeyError: 'LATITUDE'\n",
      "\n",
      "---------------------------------------------------------------------------\n",
      "KeyError                                  Traceback (most recent call last)\n",
      "File ~/Desktop/PRVD-2/env/lib/python3.13/site-packages/pandas/core/indexes/base.py:3805, in Index.get_loc(self=Index(['neighbourhood', 'neighbourhood_group', 'geometry'], dtype='object'), key='LATITUDE')\n",
      "   3804 try:\n",
      "-> 3805     return self._engine.get_loc(casted_key)\n",
      "        casted_key = 'LATITUDE'\n",
      "        self = Index(['neighbourhood', 'neighbourhood_group', 'geometry'], dtype='object')\n",
      "   3806 except KeyError as err:\n",
      "\n",
      "File index.pyx:167, in pandas._libs.index.IndexEngine.get_loc()\n",
      "\n",
      "File index.pyx:196, in pandas._libs.index.IndexEngine.get_loc()\n",
      "\n",
      "File pandas/_libs/hashtable_class_helper.pxi:7081, in pandas._libs.hashtable.PyObjectHashTable.get_item()\n",
      "\n",
      "File pandas/_libs/hashtable_class_helper.pxi:7089, in pandas._libs.hashtable.PyObjectHashTable.get_item()\n",
      "\n",
      "KeyError: 'LATITUDE'\n",
      "\n",
      "The above exception was the direct cause of the following exception:\n",
      "\n",
      "KeyError                                  Traceback (most recent call last)\n",
      "Cell In[4], line 39, in crimes_graphs(_='crimes-graphs')\n",
      "     33 @app.callback(\n",
      "     34 \tOutput('crimes-graphs', 'children'),\n",
      "     35 \tInput('crimes-graphs', 'id')\n",
      "     36 )\n",
      "     37 def crimes_graphs(_):\n",
      "     38 \tgraphs = cv.get_all_graphs()\n",
      "---> 39 \tmap = cv.get_map()\n",
      "        cv = <handlers.crime_visualization.CrimeVisualization object at 0x12b9c7620>\n",
      "     40 \tmap_html = map._repr_html_()\n",
      "     42 \treturn html.Div([\n",
      "     43 \t\tgraphs,\n",
      "     44 \t\thtml.Iframe(\n",
      "   (...)\n",
      "     51 \t\t)\n",
      "     52 \t])\n",
      "\n",
      "File ~/Desktop/PRVD-2/refactor/handlers/crime_visualization.py:70, in CrimeVisualization.get_map(\n",
      "    self=<handlers.crime_visualization.CrimeVisualization object>\n",
      ")\n",
      "     66 fig = go.Figure()\n",
      "     68 for i in range(len(self.gdf)):\n",
      "     69     fig.add_trace(go.Scattermapbox(\n",
      "---> 70         lat=[self.gdf[\"LATITUDE\"][i]],\n",
      "        fig = Figure({\n",
      "    'data': [], 'layout': {'template': '...'}\n",
      "})\n",
      "        go = <module 'plotly.graph_objects' from '/Users/francip/Desktop/PRVD-2/env/lib/python3.13/site-packages/plotly/graph_objects/__init__.py'>\n",
      "        i = 0\n",
      "        self.gdf =                   neighbourhood neighbourhood_group  \\\n",
      "0                       PALACIO              CENTRO   \n",
      "1                   EMBAJADORES              CENTRO   \n",
      "2                        CORTES              CENTRO   \n",
      "3                      JUSTICIA              CENTRO   \n",
      "4                   UNIVERSIDAD              CENTRO   \n",
      "..                          ...                 ...   \n",
      "123            ALAMEDA DE OSUNA             BARAJAS   \n",
      "124                       TIMÓN             BARAJAS   \n",
      "125                  AEROPUERTO             BARAJAS   \n",
      "126  CASCO HISTÓRICO DE BARAJAS             BARAJAS   \n",
      "127                  CORRALEJOS             BARAJAS   \n",
      "\n",
      "                                              geometry  \n",
      "0    MULTIPOLYGON (((-3.70584 40.4203, -3.70625 40....  \n",
      "1    MULTIPOLYGON (((-3.70384 40.41432, -3.70277 40...  \n",
      "2    MULTIPOLYGON (((-3.69796 40.41929, -3.69645 40...  \n",
      "3    MULTIPOLYGON (((-3.69546 40.41898, -3.69645 40...  \n",
      "4    MULTIPOLYGON (((-3.70108 40.42134, -3.70155 40...  \n",
      "..                                                 ...  \n",
      "123  MULTIPOLYGON (((-3.58243 40.46381, -3.58078 40...  \n",
      "124  MULTIPOLYGON (((-3.5799 40.50159, -3.58002 40....  \n",
      "125  MULTIPOLYGON (((-3.57786 40.51038, -3.57579 40...  \n",
      "126  MULTIPOLYGON (((-3.57446 40.47267, -3.57475 40...  \n",
      "127  MULTIPOLYGON (((-3.59957 40.46867, -3.5987 40....  \n",
      "\n",
      "[128 rows x 3 columns]\n",
      "        self = <handlers.crime_visualization.CrimeVisualization object at 0x12b9c7620>\n",
      "     71         lon=[self.gdf[\"LONGITUDE\"][i]],\n",
      "     72         mode=\"markers\",\n",
      "     73         marker=go.scattermapbox.Marker(\n",
      "     74             size=9,\n",
      "     75             color=\"red\",\n",
      "     76             opacity=0.7\n",
      "     77         ),\n",
      "     78         text=self.gdf[\"DISTRITO\"][i],\n",
      "     79         hoverinfo=\"text\"\n",
      "     80     ))\n",
      "     82 fig.update_layout(\n",
      "     83     mapbox_style=\"open-street-map\",\n",
      "     84     mapbox_center_lon=self.gdf[\"LONGITUDE\"].mean(),\n",
      "     85     mapbox_center_lat=self.gdf[\"LATITUDE\"].mean(),\n",
      "     86     mapbox_zoom=10\n",
      "     87 )\n",
      "     89 return dcc.Graph(figure=fig)\n",
      "\n",
      "File ~/Desktop/PRVD-2/env/lib/python3.13/site-packages/geopandas/geodataframe.py:1750, in GeoDataFrame.__getitem__(\n",
      "    self=                  neighbourhood neighbourhood_gr...0.46867, -3.5987 40....  \n",
      "\n",
      "[128 rows x 3 columns],\n",
      "    key='LATITUDE'\n",
      ")\n",
      "   1744 def __getitem__(self, key):\n",
      "   1745     \"\"\"\n",
      "   1746     If the result is a column containing only 'geometry', return a\n",
      "   1747     GeoSeries. If it's a DataFrame with any columns of GeometryDtype,\n",
      "   1748     return a GeoDataFrame.\n",
      "   1749     \"\"\"\n",
      "-> 1750     result = super().__getitem__(key)\n",
      "        key = 'LATITUDE'\n",
      "   1751     # Custom logic to avoid waiting for pandas GH51895\n",
      "   1752     # result is not geometry dtype for multi-indexes\n",
      "   1753     if (\n",
      "   1754         pd.api.types.is_scalar(key)\n",
      "   1755         and key == \"\"\n",
      "   (...)\n",
      "   1758         and not is_geometry_type(result)\n",
      "   1759     ):\n",
      "\n",
      "File ~/Desktop/PRVD-2/env/lib/python3.13/site-packages/pandas/core/frame.py:4102, in DataFrame.__getitem__(\n",
      "    self=                  neighbourhood neighbourhood_gr...0.46867, -3.5987 40....  \n",
      "\n",
      "[128 rows x 3 columns],\n",
      "    key='LATITUDE'\n",
      ")\n",
      "   4100 if self.columns.nlevels > 1:\n",
      "   4101     return self._getitem_multilevel(key)\n",
      "-> 4102 indexer = self.columns.get_loc(key)\n",
      "        key = 'LATITUDE'\n",
      "        self =                   neighbourhood neighbourhood_group  \\\n",
      "0                       PALACIO              CENTRO   \n",
      "1                   EMBAJADORES              CENTRO   \n",
      "2                        CORTES              CENTRO   \n",
      "3                      JUSTICIA              CENTRO   \n",
      "4                   UNIVERSIDAD              CENTRO   \n",
      "..                          ...                 ...   \n",
      "123            ALAMEDA DE OSUNA             BARAJAS   \n",
      "124                       TIMÓN             BARAJAS   \n",
      "125                  AEROPUERTO             BARAJAS   \n",
      "126  CASCO HISTÓRICO DE BARAJAS             BARAJAS   \n",
      "127                  CORRALEJOS             BARAJAS   \n",
      "\n",
      "                                              geometry  \n",
      "0    MULTIPOLYGON (((-3.70584 40.4203, -3.70625 40....  \n",
      "1    MULTIPOLYGON (((-3.70384 40.41432, -3.70277 40...  \n",
      "2    MULTIPOLYGON (((-3.69796 40.41929, -3.69645 40...  \n",
      "3    MULTIPOLYGON (((-3.69546 40.41898, -3.69645 40...  \n",
      "4    MULTIPOLYGON (((-3.70108 40.42134, -3.70155 40...  \n",
      "..                                                 ...  \n",
      "123  MULTIPOLYGON (((-3.58243 40.46381, -3.58078 40...  \n",
      "124  MULTIPOLYGON (((-3.5799 40.50159, -3.58002 40....  \n",
      "125  MULTIPOLYGON (((-3.57786 40.51038, -3.57579 40...  \n",
      "126  MULTIPOLYGON (((-3.57446 40.47267, -3.57475 40...  \n",
      "127  MULTIPOLYGON (((-3.59957 40.46867, -3.5987 40....  \n",
      "\n",
      "[128 rows x 3 columns]\n",
      "   4103 if is_integer(indexer):\n",
      "   4104     indexer = [indexer]\n",
      "\n",
      "File ~/Desktop/PRVD-2/env/lib/python3.13/site-packages/pandas/core/indexes/base.py:3812, in Index.get_loc(\n",
      "    self=Index(['neighbourhood', 'neighbourhood_group', 'geometry'], dtype='object'),\n",
      "    key='LATITUDE'\n",
      ")\n",
      "   3807     if isinstance(casted_key, slice) or (\n",
      "   3808         isinstance(casted_key, abc.Iterable)\n",
      "   3809         and any(isinstance(x, slice) for x in casted_key)\n",
      "   3810     ):\n",
      "   3811         raise InvalidIndexError(key)\n",
      "-> 3812     raise KeyError(key) from err\n",
      "        key = 'LATITUDE'\n",
      "   3813 except TypeError:\n",
      "   3814     # If we have a listlike key, _check_indexing_error will raise\n",
      "   3815     #  InvalidIndexError. Otherwise we fall through and re-raise\n",
      "   3816     #  the TypeError.\n",
      "   3817     self._check_indexing_error(key)\n",
      "\n",
      "KeyError: 'LATITUDE'\n",
      "\n"
     ]
    }
   ],
   "source": [
    "distritos = list(listings['neighbourhood_group'].unique())\n",
    "\n",
    "app = Dash(__name__, assets_folder='assets')\n",
    "\n",
    "app.layout = html.Div(className='container', children=[\n",
    "\thtml.H1('Datos de AirBnB en Madrid'),\n",
    "\t\n",
    "\tdcc.Tabs(children=[\n",
    "\t\tdcc.Tab(label='Información general', children=[\n",
    "\t\t\thtml.Div(id='general-graphs')\n",
    "\t\t]),\n",
    "\n",
    "\t\tdcc.Tab(label='Información por distrito', children=[\n",
    "\t\t\thtml.H4('Selecciona un distrito:'),\n",
    "\t\t\tdcc.Dropdown(\n",
    "\t\t\t\tid='distrito-dropdown-cloropleth',\n",
    "\t\t\t\toptions=[{'label': distrito, 'value': distrito} for distrito in distritos],\n",
    "\t\t\t\tvalue='CENTRO'\n",
    "\t\t\t),\n",
    "\t\t\thtml.Div(id='distrito-graph-cloropleth', className='map-container')\n",
    "\t\t]),\n",
    "\n",
    "\t\tdcc.Tab(label='Información con metro', children=[\n",
    "            html.Div(id='metro-graphs')\n",
    "\t\t]),\n",
    "\n",
    "\t\tdcc.Tab(label='Crímenes', children=[\n",
    "\t\t\thtml.Div(id='crimes-graphs')\n",
    "\t\t])\n",
    "\t])\n",
    "])\n",
    "\n",
    "@app.callback(\n",
    "\tOutput('crimes-graphs', 'children'),\n",
    "\tInput('crimes-graphs', 'id')\n",
    ")\n",
    "def crimes_graphs(_):\n",
    "\tgraphs = cv.get_all_graphs()\n",
    "\tmap = cv.get_map()\n",
    "\tmap_html = map._repr_html_()\n",
    "\n",
    "\treturn html.Div([\n",
    "\t\tgraphs,\n",
    "\t\thtml.Iframe(\n",
    "\t\t\tsrcDoc=map_html,\n",
    "\t\t\tstyle={\n",
    "\t\t\t\t\"width\": \"100%\",\n",
    "\t\t\t\t\"height\": \"600px\",\n",
    "\t\t\t\t\"border\": \"none\"\n",
    "\t\t\t}\n",
    "\t\t)\n",
    "\t])\n",
    "\n",
    "@app.callback(\n",
    "\tOutput('metro-graphs', 'children'),\n",
    "\tInput('metro-graphs', 'id')\n",
    ")\n",
    "def metro_graphs(_):\n",
    "\tmetro_map_borders = mv.get_metro_map(cloropleth=False)\n",
    "\tmetro_map_borders_html = metro_map_borders._repr_html_()\n",
    "\n",
    "\tmetro_map_cloro = mv.get_metro_map(cloropleth=True)\n",
    "\tmetro_map_cloro_html = metro_map_cloro._repr_html_()\n",
    "\n",
    "\treturn html.Div([\n",
    "\t\thtml.Iframe(\n",
    "\t\t\tsrcDoc=metro_map_borders_html,\n",
    "\t\t\tstyle={\n",
    "\t\t\t\t\"width\": \"100%\",\n",
    "\t\t\t\t\"height\": \"600px\",\n",
    "\t\t\t\t\"border\": \"none\"\n",
    "\t\t\t}\n",
    "\t\t),\n",
    "\t\thtml.Iframe(\n",
    "\t\t\tsrcDoc=metro_map_cloro_html,\n",
    "\t\t\tstyle={\n",
    "\t\t\t\t\"width\": \"100%\",\n",
    "\t\t\t\t\"height\": \"600px\",\n",
    "\t\t\t\t\"border\": \"none\"\n",
    "\t\t\t}\n",
    "\t\t)\n",
    "\t])\n",
    "\n",
    "@app.callback(\n",
    "\tOutput('distrito-graph-cloropleth', 'children'),\n",
    "\tInput('distrito-dropdown-cloropleth', 'value')\n",
    ")\n",
    "def district_graphs(distrito):\n",
    "\tdistrict_info = dv.get_district_info(distrito)\n",
    "\tdistrict_cloropleth = dv.get_district_cloropleth(distrito)\n",
    "\theatmap = dv.get_district_heatmap(distrito)\n",
    "\n",
    "\tchoropleth_html = district_cloropleth._repr_html_()\n",
    "\theatmap_html = heatmap._repr_html_()\n",
    "\t\n",
    "\treturn html.Div([\n",
    "\t\tdistrict_info,\n",
    "\t\thtml.Iframe(\n",
    "\t\t\tsrcDoc=choropleth_html,\n",
    "\t\t\tstyle={\n",
    "\t\t\t\t\"width\": \"100%\",\n",
    "\t\t\t\t\"height\": \"600px\",\n",
    "\t\t\t\t\"border\": \"none\"\n",
    "\t\t\t}\n",
    "\t\t),\n",
    "\t\thtml.Iframe(\n",
    "\t\t\tsrcDoc=heatmap_html,\n",
    "\t\t\tstyle={\n",
    "\t\t\t\t\"width\": \"100%\",\n",
    "\t\t\t\t\"height\": \"600px\",\n",
    "\t\t\t\t\"border\": \"none\"\n",
    "\t\t\t}\n",
    "\t\t)\n",
    "\t])\n",
    "\n",
    "@app.callback(\n",
    "\tOutput('general-graphs', 'children'),\n",
    "\tInput('general-graphs', 'id')\n",
    ")\n",
    "def general_graphs(_):\n",
    "\tgraphs = gv.get_all_graphs()\n",
    "\tcloropleth_map = gv.get_madrid_cloropleth()\n",
    "\theatmap = gv.get_madrid_heatmap()\n",
    "\n",
    "\tchoropleth_html = cloropleth_map._repr_html_()\n",
    "\theatmap_html = heatmap._repr_html_()\n",
    "\t\n",
    "\treturn html.Div([\n",
    "\t\tgraphs,\n",
    "\t\thtml.Iframe(\n",
    "\t\t\tsrcDoc=choropleth_html,\n",
    "\t\t\tstyle={\n",
    "\t\t\t\t\"width\": \"100%\",\n",
    "\t\t\t\t\"height\": \"600px\",\n",
    "\t\t\t\t\"border\": \"none\"\n",
    "\t\t\t}\n",
    "\t\t),\n",
    "\t\thtml.Iframe(\n",
    "\t\t\tsrcDoc=heatmap_html,\n",
    "\t\t\tstyle={\n",
    "\t\t\t\t\"width\": \"100%\",\n",
    "\t\t\t\t\"height\": \"600px\",\n",
    "\t\t\t\t\"border\": \"none\"\n",
    "\t\t\t}\n",
    "\t\t)\n",
    "\t])\n",
    "\n",
    "if __name__ == '__main__':\n",
    "\tapp.run_server(debug=True)"
   ]
  }
 ],
 "metadata": {
  "kernelspec": {
   "display_name": "env",
   "language": "python",
   "name": "python3"
  },
  "language_info": {
   "codemirror_mode": {
    "name": "ipython",
    "version": 3
   },
   "file_extension": ".py",
   "mimetype": "text/x-python",
   "name": "python",
   "nbconvert_exporter": "python",
   "pygments_lexer": "ipython3",
   "version": "3.13.1"
  }
 },
 "nbformat": 4,
 "nbformat_minor": 2
}
